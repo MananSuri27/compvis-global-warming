{
  "nbformat": 4,
  "nbformat_minor": 0,
  "metadata": {
    "colab": {
      "provenance": []
    },
    "kernelspec": {
      "name": "python3",
      "display_name": "Python 3"
    },
    "language_info": {
      "name": "python"
    }
  },
  "cells": [
    {
      "cell_type": "markdown",
      "source": [
        "# Lab Project\n",
        "Manan Suri\n",
        "2020UCO1696\n",
        "\n",
        "Dataset:\n",
        "\n",
        "Application:\n",
        "Based on changes detected in satellite data, we want to predict the mean average temperature for a region. This analysis over different regions and across years of data will be helpful in analyzing global warming and predicting future trends.\n",
        "\n"
      ],
      "metadata": {
        "id": "TThyb2wUIxj6"
      }
    },
    {
      "cell_type": "code",
      "execution_count": null,
      "metadata": {
        "id": "PdpQ0sqivGdX"
      },
      "outputs": [],
      "source": [
        "import torch\n",
        "import torch.nn as nn\n",
        "import torchvision.models as models\n",
        "from torch.nn.utils.rnn import pack_padded_sequence\n",
        "import torch.nn.functional as F\n",
        "from torchvision.models import resnet18, resnet101\n",
        "\n",
        "\n",
        "class LabModel(nn.Module):\n",
        "    def __init__(self, num_classes=2):\n",
        "        super(LabModel, self).__init__()\n",
        "\n",
        " \n",
        "        self.resnet1 = resnet101(pretrained=True)\n",
        "        self.resnet2 = resnet101(pretrained=True)\n",
        "        self.resnet3 = resnet101(pretrained=True)\n",
        "        self.resnet1.fc = nn.Sequential(nn.Linear(self.resnet1.fc.in_features, 300))\n",
        "        self.resnet2.fc = nn.Sequential(nn.Linear(self.resnet2.fc.in_features, 300))\n",
        "        self.resnet3.fc = nn.Sequential(nn.Linear(self.resnet3.fc.in_features, 300))\n",
        "        self.fc1 = nn.Sequential(nn.Linear(900, 300))\n",
        "        self.fc2 = nn.Sequential(nn.Linear(300, 1))\n",
        "        \n",
        "       \n",
        "    def forward(self, img1,img2,img3):\n",
        "        hidden = None\n",
        "        x1 = self.resnet1(img1)\n",
        "        x2 = self.resnet2(img2)\n",
        "        x3 = self.resnet3(img3)\n",
        "        \n",
        "        concat_rep = torch.cat((x1,x2,x3), dim=1)       \n",
        "\n",
        "        out1 = self.fc1(concat_rep)\n",
        "        out1 = F.relu(out1)\n",
        "        out2 =self.fc2(out1)\n",
        "        \n",
        "        return out2"
      ]
    },
    {
      "cell_type": "code",
      "source": [
        "model =LabModel()"
      ],
      "metadata": {
        "colab": {
          "base_uri": "https://localhost:8080/"
        },
        "id": "MvU8ihk3zWNS",
        "outputId": "3aecfe0f-f25b-4d98-93c7-785b3557ca08"
      },
      "execution_count": null,
      "outputs": [
        {
          "output_type": "stream",
          "name": "stderr",
          "text": [
            "/usr/local/lib/python3.7/dist-packages/torchvision/models/_utils.py:209: UserWarning: The parameter 'pretrained' is deprecated since 0.13 and will be removed in 0.15, please use 'weights' instead.\n",
            "  f\"The parameter '{pretrained_param}' is deprecated since 0.13 and will be removed in 0.15, \"\n",
            "/usr/local/lib/python3.7/dist-packages/torchvision/models/_utils.py:223: UserWarning: Arguments other than a weight enum or `None` for 'weights' are deprecated since 0.13 and will be removed in 0.15. The current behavior is equivalent to passing `weights=ResNet101_Weights.IMAGENET1K_V1`. You can also use `weights=ResNet101_Weights.DEFAULT` to get the most up-to-date weights.\n",
            "  warnings.warn(msg)\n"
          ]
        }
      ]
    },
    {
      "cell_type": "code",
      "source": [
        "loss_fn = torch.nn.MSELoss(reduction='sum')\n",
        "import matplotlib.pyplot as plt\n",
        "import numpy as np\n",
        "\n",
        "learning_rate = 1e-6\n",
        "for t in range(10):\n",
        "\n",
        " \n",
        "\n",
        "    img1 = torch.rand(4,3,256,256)\n",
        "    img2 = torch.rand(4,3,256,256)\n",
        "    img3 = torch.rand(4,3,256,256)\n",
        "\n",
        "    print(\"Iter\", t)\n",
        "\n",
        "    # print(\"Images in batch:\")\n",
        "    \n",
        "    y = torch.rand(4,1)*2+16\n",
        "\n",
        "\n",
        "    y_pred = model(img1,img2,img3)\n",
        "\n",
        "    print(\"y_pred\", y_pred)\n",
        "\n",
        "    # Compute and print loss. We pass Tensors containing the predicted and true\n",
        "    # values of y, and the loss function returns a Tensor containing the\n",
        "    # loss.\n",
        "    \n",
        "    loss = loss_fn(y_pred, y)\n",
        "    if t % 100 == 99:\n",
        "        print(t, loss.item())\n",
        "\n",
        "    # Zero the gradients before running the backward pass.\n",
        "    model.zero_grad()\n",
        "\n",
        "    # Backward pass: compute gradient of the loss with respect to all the learnable\n",
        "    # parameters of the model. Internally, the parameters of each Module are stored\n",
        "    # in Tensors with requires_grad=True, so this call will compute gradients for\n",
        "    # all learnable parameters in the model.\n",
        "    loss.backward()\n",
        "\n",
        "    # Update the weights using gradient descent. Each parameter is a Tensor, so\n",
        "    # we can access its gradients like we did before.\n",
        "    with torch.no_grad():\n",
        "        for param in model.parameters():\n",
        "            param -= learning_rate * param.grad\n",
        "\n",
        "\n",
        "\n"
      ],
      "metadata": {
        "colab": {
          "base_uri": "https://localhost:8080/"
        },
        "id": "tE81g9wivxZv",
        "outputId": "4a94ebb8-970e-4d6d-c6c7-7aeb155f2e88"
      },
      "execution_count": null,
      "outputs": [
        {
          "output_type": "stream",
          "name": "stdout",
          "text": [
            "Iter 0\n",
            "y_pred tensor([[0.2784],\n",
            "        [0.3251],\n",
            "        [0.3238],\n",
            "        [0.2369]], grad_fn=<AddmmBackward0>)\n",
            "Iter 1\n",
            "y_pred tensor([[0.3096],\n",
            "        [0.3169],\n",
            "        [0.3128],\n",
            "        [0.2515]], grad_fn=<AddmmBackward0>)\n",
            "Iter 2\n",
            "y_pred tensor([[0.2590],\n",
            "        [0.2853],\n",
            "        [0.2918],\n",
            "        [0.3440]], grad_fn=<AddmmBackward0>)\n",
            "Iter 3\n",
            "y_pred tensor([[0.3139],\n",
            "        [0.3339],\n",
            "        [0.2964],\n",
            "        [0.2673]], grad_fn=<AddmmBackward0>)\n",
            "Iter 4\n",
            "y_pred tensor([[0.3200],\n",
            "        [0.2849],\n",
            "        [0.3258],\n",
            "        [0.2995]], grad_fn=<AddmmBackward0>)\n",
            "Iter 5\n",
            "y_pred tensor([[0.3069],\n",
            "        [0.3022],\n",
            "        [0.2571],\n",
            "        [0.3566]], grad_fn=<AddmmBackward0>)\n",
            "Iter 6\n",
            "y_pred tensor([[0.3313],\n",
            "        [0.3042],\n",
            "        [0.3452],\n",
            "        [0.3252]], grad_fn=<AddmmBackward0>)\n",
            "Iter 7\n",
            "y_pred tensor([[0.3268],\n",
            "        [0.3213],\n",
            "        [0.2941],\n",
            "        [0.3377]], grad_fn=<AddmmBackward0>)\n",
            "Iter 8\n",
            "y_pred tensor([[0.3523],\n",
            "        [0.3289],\n",
            "        [0.2964],\n",
            "        [0.3446]], grad_fn=<AddmmBackward0>)\n",
            "Iter 9\n",
            "y_pred tensor([[0.3476],\n",
            "        [0.3783],\n",
            "        [0.3301],\n",
            "        [0.3030]], grad_fn=<AddmmBackward0>)\n"
          ]
        }
      ]
    },
    {
      "cell_type": "code",
      "source": [
        "# make random prediction\n",
        "img1 = torch.rand(1,3,256,256)\n",
        "img2 = torch.rand(1,3,256,256)\n",
        "img3 = torch.rand(1,3,256,256)\n",
        "\n",
        "y_pred = model(img1,img2,img3)\n",
        "\n",
        "print(y_pred)"
      ],
      "metadata": {
        "colab": {
          "base_uri": "https://localhost:8080/"
        },
        "id": "3h35CBrw2Q5e",
        "outputId": "fed40eec-adb4-4ba6-c5c6-08283fdc7494"
      },
      "execution_count": null,
      "outputs": [
        {
          "output_type": "stream",
          "name": "stdout",
          "text": [
            "tensor([[0.3604]], grad_fn=<AddmmBackward0>)\n"
          ]
        }
      ]
    }
  ]
}